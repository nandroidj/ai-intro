{
  "nbformat": 4,
  "nbformat_minor": 0,
  "metadata": {
    "colab": {
      "provenance": [],
      "mount_file_id": "1K6pz574RrL9hdMFCwotSfN_Nargwah__",
      "authorship_tag": "ABX9TyNr4R9QGDbGFg6tv6S28l1d",
      "include_colab_link": true
    },
    "kernelspec": {
      "name": "python3",
      "display_name": "Python 3"
    },
    "language_info": {
      "name": "python"
    }
  },
  "cells": [
    {
      "cell_type": "markdown",
      "metadata": {
        "id": "view-in-github",
        "colab_type": "text"
      },
      "source": [
        "<a href=\"https://colab.research.google.com/github/nandroidj/ai-intro/blob/main/intro_ai_iglesias_i507.ipynb\" target=\"_parent\"><img src=\"https://colab.research.google.com/assets/colab-badge.svg\" alt=\"Open In Colab\"/></a>"
      ]
    },
    {
      "cell_type": "code",
      "execution_count": 102,
      "metadata": {
        "id": "D_D4fg99x_eB"
      },
      "outputs": [],
      "source": [
        "import numpy as np \n",
        "import pandas as pd \n",
        "import matplotlib.pyplot as plt\n",
        "import seaborn as sns\n",
        "\n",
        "# sklearn\n",
        "from sklearn import metrics\n",
        "from sklearn import preprocessing\n",
        "from sklearn.model_selection import train_test_split\n",
        "\n",
        "# PCA\n",
        "from sklearn import decomposition\n",
        "\n",
        "# SVM\n",
        "from sklearn import svm\n",
        "\n",
        "# decision tree\n",
        "from sklearn import tree\n",
        "\n",
        "# k-Nearest neighbours\n",
        "from sklearn import neighbors\n",
        "\n",
        "# perceptron - clasificacion\n",
        "from sklearn.neural_network import MLPClassifier\n",
        "# perceptron - regresion\n",
        "from sklearn.neural_network import MLPRegressor"
      ]
    },
    {
      "cell_type": "markdown",
      "source": [
        "# Dataset"
      ],
      "metadata": {
        "id": "cqQESsrFz74h"
      }
    },
    {
      "cell_type": "code",
      "source": [
        "from google.colab import files\n",
        "files.upload()\n",
        "!ls"
      ],
      "metadata": {
        "colab": {
          "base_uri": "https://localhost:8080/",
          "height": 129,
          "resources": {
            "http://localhost:8080/nbextensions/google.colab/files.js": {
              "data": "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",
              "ok": true,
              "headers": [
                [
                  "content-type",
                  "application/javascript"
                ]
              ],
              "status": 200,
              "status_text": ""
            }
          }
        },
        "id": "BZsofcnUz_de",
        "outputId": "cfcdabac-0be7-402b-fccb-de8d57f46155"
      },
      "execution_count": 2,
      "outputs": [
        {
          "output_type": "display_data",
          "data": {
            "text/plain": [
              "<IPython.core.display.HTML object>"
            ],
            "text/html": [
              "\n",
              "     <input type=\"file\" id=\"files-ff4dd129-284c-4909-8f0e-92a3bd189472\" name=\"files[]\" multiple disabled\n",
              "        style=\"border:none\" />\n",
              "     <output id=\"result-ff4dd129-284c-4909-8f0e-92a3bd189472\">\n",
              "      Upload widget is only available when the cell has been executed in the\n",
              "      current browser session. Please rerun this cell to enable.\n",
              "      </output>\n",
              "      <script src=\"/nbextensions/google.colab/files.js\"></script> "
            ]
          },
          "metadata": {}
        },
        {
          "output_type": "stream",
          "name": "stdout",
          "text": [
            "Saving winequality-red_m.csv to winequality-red_m.csv\n",
            "Saving winequality-white_m.csv to winequality-white_m.csv\n",
            "drive  sample_data  winequality-red_m.csv  winequality-white_m.csv\n"
          ]
        }
      ]
    },
    {
      "cell_type": "code",
      "source": [
        "# se almacenan los csv importados en dataframes separados\n",
        "\n",
        "df_red_wine = pd.read_csv(\"winequality-red_m.csv\", delimiter=\";\")\n",
        "df_white_wine = pd.read_csv(\"winequality-white_m.csv\", delimiter=\";\")\n",
        "\n",
        "print(\"red wine\", df_red_wine)\n",
        "print(\"white wine\", df_white_wine)"
      ],
      "metadata": {
        "colab": {
          "base_uri": "https://localhost:8080/"
        },
        "id": "zMYk-qqc-x9r",
        "outputId": "17f6810e-ace8-49be-ddf9-1f226243a6fe"
      },
      "execution_count": 3,
      "outputs": [
        {
          "output_type": "stream",
          "name": "stdout",
          "text": [
            "red wine       fixed acidity  volatile acidity  citric acid  residual sugar  chlorides  \\\n",
            "0               7.4             0.700         0.00             1.9      0.076   \n",
            "1               7.8             0.880         0.00             2.6      0.098   \n",
            "2               7.8             0.760         0.04             2.3      0.092   \n",
            "3              11.2             0.280         0.56             1.9      0.075   \n",
            "4               7.4             0.700         0.00             NaN      0.076   \n",
            "...             ...               ...          ...             ...        ...   \n",
            "1594            6.2             0.600         0.08             2.0      0.090   \n",
            "1595            5.9             0.550         0.10             2.2      0.062   \n",
            "1596            6.3             0.510         0.13             2.3      0.076   \n",
            "1597            5.9             0.645         0.12             2.0      0.075   \n",
            "1598            6.0             0.310         0.47             3.6      0.067   \n",
            "\n",
            "      free sulfur dioxide  total sulfur dioxide  density    pH  sulphates  \\\n",
            "0                    11.0                  34.0  0.99780  3.51       0.56   \n",
            "1                    25.0                  67.0  0.99680  3.20       0.68   \n",
            "2                    15.0                  54.0  0.99700  3.26       0.65   \n",
            "3                    17.0                  60.0  0.99800  3.16       0.58   \n",
            "4                    11.0                  34.0  0.99780  3.51       0.56   \n",
            "...                   ...                   ...      ...   ...        ...   \n",
            "1594                 32.0                  44.0  0.99490  3.45       0.58   \n",
            "1595                 39.0                  51.0  0.99512  3.52       0.76   \n",
            "1596                 29.0                  40.0  0.99574  3.42       0.75   \n",
            "1597                 32.0                  44.0  0.99547  3.57       0.71   \n",
            "1598                 18.0                  42.0  0.99549  3.39       0.66   \n",
            "\n",
            "      alcohol  quality  \n",
            "0         9.4        5  \n",
            "1         9.8        5  \n",
            "2         9.8        5  \n",
            "3         9.8        6  \n",
            "4         9.4        5  \n",
            "...       ...      ...  \n",
            "1594     10.5        5  \n",
            "1595     11.2        6  \n",
            "1596     11.0        6  \n",
            "1597     10.2        5  \n",
            "1598     11.0        6  \n",
            "\n",
            "[1599 rows x 12 columns]\n",
            "white wine       fixed acidity  volatile acidity  citric acid  residual sugar  chlorides  \\\n",
            "0               7.0              0.27         0.36            20.7      0.045   \n",
            "1               6.3              0.30         0.34             1.6      0.049   \n",
            "2               8.1              0.28         0.40             6.9      0.050   \n",
            "3               7.2              0.23         0.32             8.5      0.058   \n",
            "4               7.2              0.23         0.32             8.5      0.058   \n",
            "...             ...               ...          ...             ...        ...   \n",
            "4893            6.2              0.21         0.29             1.6      0.039   \n",
            "4894            6.6              0.32         0.36             8.0      0.047   \n",
            "4895            6.5              0.24         0.19             1.2      0.041   \n",
            "4896            5.5              0.29         0.30             1.1      0.022   \n",
            "4897            6.0              0.21         0.38             0.8      0.020   \n",
            "\n",
            "      free sulfur dioxide  total sulfur dioxide  density    pH  sulphates  \\\n",
            "0                    45.0                 170.0  1.00100  3.00       0.45   \n",
            "1                    14.0                 132.0  0.99400  3.30       0.49   \n",
            "2                    30.0                  97.0  0.99510  3.26       0.44   \n",
            "3                    47.0                 186.0  0.99560  3.19       0.40   \n",
            "4                    47.0                 186.0  0.99560  3.19       0.40   \n",
            "...                   ...                   ...      ...   ...        ...   \n",
            "4893                 24.0                  92.0  0.99114  3.27       0.50   \n",
            "4894                 57.0                 168.0  0.99490  3.15       0.46   \n",
            "4895                 30.0                 111.0  0.99254  2.99       0.46   \n",
            "4896                 20.0                 110.0  0.98869  3.34       0.38   \n",
            "4897                 22.0                  98.0  0.98941  3.26       0.32   \n",
            "\n",
            "      alcohol  quality  \n",
            "0         8.8        6  \n",
            "1         9.5        6  \n",
            "2        10.1        6  \n",
            "3         9.9        6  \n",
            "4         9.9        6  \n",
            "...       ...      ...  \n",
            "4893     11.2        6  \n",
            "4894      9.6        5  \n",
            "4895      9.4        6  \n",
            "4896     12.8        7  \n",
            "4897     11.8        6  \n",
            "\n",
            "[4898 rows x 12 columns]\n"
          ]
        }
      ]
    },
    {
      "cell_type": "markdown",
      "source": [
        "# Preprocesamiento"
      ],
      "metadata": {
        "id": "h5xb7Xx2VWPm"
      }
    },
    {
      "cell_type": "code",
      "source": [
        "# se imprimen las primeras filas (por defecto) del dataframe correspondiente a vino tinto\n",
        "df_red_wine.head()\n",
        "\n"
      ],
      "metadata": {
        "colab": {
          "base_uri": "https://localhost:8080/",
          "height": 0
        },
        "id": "9HMHSRXPVbx4",
        "outputId": "5165ba9c-aa23-4e80-aa25-87f60c58588e"
      },
      "execution_count": 4,
      "outputs": [
        {
          "output_type": "execute_result",
          "data": {
            "text/plain": [
              "   fixed acidity  volatile acidity  citric acid  residual sugar  chlorides  \\\n",
              "0            7.4              0.70         0.00             1.9      0.076   \n",
              "1            7.8              0.88         0.00             2.6      0.098   \n",
              "2            7.8              0.76         0.04             2.3      0.092   \n",
              "3           11.2              0.28         0.56             1.9      0.075   \n",
              "4            7.4              0.70         0.00             NaN      0.076   \n",
              "\n",
              "   free sulfur dioxide  total sulfur dioxide  density    pH  sulphates  \\\n",
              "0                 11.0                  34.0   0.9978  3.51       0.56   \n",
              "1                 25.0                  67.0   0.9968  3.20       0.68   \n",
              "2                 15.0                  54.0   0.9970  3.26       0.65   \n",
              "3                 17.0                  60.0   0.9980  3.16       0.58   \n",
              "4                 11.0                  34.0   0.9978  3.51       0.56   \n",
              "\n",
              "   alcohol  quality  \n",
              "0      9.4        5  \n",
              "1      9.8        5  \n",
              "2      9.8        5  \n",
              "3      9.8        6  \n",
              "4      9.4        5  "
            ],
            "text/html": [
              "\n",
              "  <div id=\"df-470455ea-9251-411f-be9a-f293ab317d8f\">\n",
              "    <div class=\"colab-df-container\">\n",
              "      <div>\n",
              "<style scoped>\n",
              "    .dataframe tbody tr th:only-of-type {\n",
              "        vertical-align: middle;\n",
              "    }\n",
              "\n",
              "    .dataframe tbody tr th {\n",
              "        vertical-align: top;\n",
              "    }\n",
              "\n",
              "    .dataframe thead th {\n",
              "        text-align: right;\n",
              "    }\n",
              "</style>\n",
              "<table border=\"1\" class=\"dataframe\">\n",
              "  <thead>\n",
              "    <tr style=\"text-align: right;\">\n",
              "      <th></th>\n",
              "      <th>fixed acidity</th>\n",
              "      <th>volatile acidity</th>\n",
              "      <th>citric acid</th>\n",
              "      <th>residual sugar</th>\n",
              "      <th>chlorides</th>\n",
              "      <th>free sulfur dioxide</th>\n",
              "      <th>total sulfur dioxide</th>\n",
              "      <th>density</th>\n",
              "      <th>pH</th>\n",
              "      <th>sulphates</th>\n",
              "      <th>alcohol</th>\n",
              "      <th>quality</th>\n",
              "    </tr>\n",
              "  </thead>\n",
              "  <tbody>\n",
              "    <tr>\n",
              "      <th>0</th>\n",
              "      <td>7.4</td>\n",
              "      <td>0.70</td>\n",
              "      <td>0.00</td>\n",
              "      <td>1.9</td>\n",
              "      <td>0.076</td>\n",
              "      <td>11.0</td>\n",
              "      <td>34.0</td>\n",
              "      <td>0.9978</td>\n",
              "      <td>3.51</td>\n",
              "      <td>0.56</td>\n",
              "      <td>9.4</td>\n",
              "      <td>5</td>\n",
              "    </tr>\n",
              "    <tr>\n",
              "      <th>1</th>\n",
              "      <td>7.8</td>\n",
              "      <td>0.88</td>\n",
              "      <td>0.00</td>\n",
              "      <td>2.6</td>\n",
              "      <td>0.098</td>\n",
              "      <td>25.0</td>\n",
              "      <td>67.0</td>\n",
              "      <td>0.9968</td>\n",
              "      <td>3.20</td>\n",
              "      <td>0.68</td>\n",
              "      <td>9.8</td>\n",
              "      <td>5</td>\n",
              "    </tr>\n",
              "    <tr>\n",
              "      <th>2</th>\n",
              "      <td>7.8</td>\n",
              "      <td>0.76</td>\n",
              "      <td>0.04</td>\n",
              "      <td>2.3</td>\n",
              "      <td>0.092</td>\n",
              "      <td>15.0</td>\n",
              "      <td>54.0</td>\n",
              "      <td>0.9970</td>\n",
              "      <td>3.26</td>\n",
              "      <td>0.65</td>\n",
              "      <td>9.8</td>\n",
              "      <td>5</td>\n",
              "    </tr>\n",
              "    <tr>\n",
              "      <th>3</th>\n",
              "      <td>11.2</td>\n",
              "      <td>0.28</td>\n",
              "      <td>0.56</td>\n",
              "      <td>1.9</td>\n",
              "      <td>0.075</td>\n",
              "      <td>17.0</td>\n",
              "      <td>60.0</td>\n",
              "      <td>0.9980</td>\n",
              "      <td>3.16</td>\n",
              "      <td>0.58</td>\n",
              "      <td>9.8</td>\n",
              "      <td>6</td>\n",
              "    </tr>\n",
              "    <tr>\n",
              "      <th>4</th>\n",
              "      <td>7.4</td>\n",
              "      <td>0.70</td>\n",
              "      <td>0.00</td>\n",
              "      <td>NaN</td>\n",
              "      <td>0.076</td>\n",
              "      <td>11.0</td>\n",
              "      <td>34.0</td>\n",
              "      <td>0.9978</td>\n",
              "      <td>3.51</td>\n",
              "      <td>0.56</td>\n",
              "      <td>9.4</td>\n",
              "      <td>5</td>\n",
              "    </tr>\n",
              "  </tbody>\n",
              "</table>\n",
              "</div>\n",
              "      <button class=\"colab-df-convert\" onclick=\"convertToInteractive('df-470455ea-9251-411f-be9a-f293ab317d8f')\"\n",
              "              title=\"Convert this dataframe to an interactive table.\"\n",
              "              style=\"display:none;\">\n",
              "        \n",
              "  <svg xmlns=\"http://www.w3.org/2000/svg\" height=\"24px\"viewBox=\"0 0 24 24\"\n",
              "       width=\"24px\">\n",
              "    <path d=\"M0 0h24v24H0V0z\" fill=\"none\"/>\n",
              "    <path d=\"M18.56 5.44l.94 2.06.94-2.06 2.06-.94-2.06-.94-.94-2.06-.94 2.06-2.06.94zm-11 1L8.5 8.5l.94-2.06 2.06-.94-2.06-.94L8.5 2.5l-.94 2.06-2.06.94zm10 10l.94 2.06.94-2.06 2.06-.94-2.06-.94-.94-2.06-.94 2.06-2.06.94z\"/><path d=\"M17.41 7.96l-1.37-1.37c-.4-.4-.92-.59-1.43-.59-.52 0-1.04.2-1.43.59L10.3 9.45l-7.72 7.72c-.78.78-.78 2.05 0 2.83L4 21.41c.39.39.9.59 1.41.59.51 0 1.02-.2 1.41-.59l7.78-7.78 2.81-2.81c.8-.78.8-2.07 0-2.86zM5.41 20L4 18.59l7.72-7.72 1.47 1.35L5.41 20z\"/>\n",
              "  </svg>\n",
              "      </button>\n",
              "      \n",
              "  <style>\n",
              "    .colab-df-container {\n",
              "      display:flex;\n",
              "      flex-wrap:wrap;\n",
              "      gap: 12px;\n",
              "    }\n",
              "\n",
              "    .colab-df-convert {\n",
              "      background-color: #E8F0FE;\n",
              "      border: none;\n",
              "      border-radius: 50%;\n",
              "      cursor: pointer;\n",
              "      display: none;\n",
              "      fill: #1967D2;\n",
              "      height: 32px;\n",
              "      padding: 0 0 0 0;\n",
              "      width: 32px;\n",
              "    }\n",
              "\n",
              "    .colab-df-convert:hover {\n",
              "      background-color: #E2EBFA;\n",
              "      box-shadow: 0px 1px 2px rgba(60, 64, 67, 0.3), 0px 1px 3px 1px rgba(60, 64, 67, 0.15);\n",
              "      fill: #174EA6;\n",
              "    }\n",
              "\n",
              "    [theme=dark] .colab-df-convert {\n",
              "      background-color: #3B4455;\n",
              "      fill: #D2E3FC;\n",
              "    }\n",
              "\n",
              "    [theme=dark] .colab-df-convert:hover {\n",
              "      background-color: #434B5C;\n",
              "      box-shadow: 0px 1px 3px 1px rgba(0, 0, 0, 0.15);\n",
              "      filter: drop-shadow(0px 1px 2px rgba(0, 0, 0, 0.3));\n",
              "      fill: #FFFFFF;\n",
              "    }\n",
              "  </style>\n",
              "\n",
              "      <script>\n",
              "        const buttonEl =\n",
              "          document.querySelector('#df-470455ea-9251-411f-be9a-f293ab317d8f button.colab-df-convert');\n",
              "        buttonEl.style.display =\n",
              "          google.colab.kernel.accessAllowed ? 'block' : 'none';\n",
              "\n",
              "        async function convertToInteractive(key) {\n",
              "          const element = document.querySelector('#df-470455ea-9251-411f-be9a-f293ab317d8f');\n",
              "          const dataTable =\n",
              "            await google.colab.kernel.invokeFunction('convertToInteractive',\n",
              "                                                     [key], {});\n",
              "          if (!dataTable) return;\n",
              "\n",
              "          const docLinkHtml = 'Like what you see? Visit the ' +\n",
              "            '<a target=\"_blank\" href=https://colab.research.google.com/notebooks/data_table.ipynb>data table notebook</a>'\n",
              "            + ' to learn more about interactive tables.';\n",
              "          element.innerHTML = '';\n",
              "          dataTable['output_type'] = 'display_data';\n",
              "          await google.colab.output.renderOutput(dataTable, element);\n",
              "          const docLink = document.createElement('div');\n",
              "          docLink.innerHTML = docLinkHtml;\n",
              "          element.appendChild(docLink);\n",
              "        }\n",
              "      </script>\n",
              "    </div>\n",
              "  </div>\n",
              "  "
            ]
          },
          "metadata": {},
          "execution_count": 4
        }
      ]
    },
    {
      "cell_type": "code",
      "source": [
        "# se imprimen las primeras filas (por defecto) del dataframe correspondiente a vino blanco\n",
        "df_white_wine.head()"
      ],
      "metadata": {
        "colab": {
          "base_uri": "https://localhost:8080/",
          "height": 0
        },
        "id": "OcBSGlHCa3Nd",
        "outputId": "ed6eb89e-3cc1-4f38-85c1-4358b1c4cd77"
      },
      "execution_count": 5,
      "outputs": [
        {
          "output_type": "execute_result",
          "data": {
            "text/plain": [
              "   fixed acidity  volatile acidity  citric acid  residual sugar  chlorides  \\\n",
              "0            7.0              0.27         0.36            20.7      0.045   \n",
              "1            6.3              0.30         0.34             1.6      0.049   \n",
              "2            8.1              0.28         0.40             6.9      0.050   \n",
              "3            7.2              0.23         0.32             8.5      0.058   \n",
              "4            7.2              0.23         0.32             8.5      0.058   \n",
              "\n",
              "   free sulfur dioxide  total sulfur dioxide  density    pH  sulphates  \\\n",
              "0                 45.0                 170.0   1.0010  3.00       0.45   \n",
              "1                 14.0                 132.0   0.9940  3.30       0.49   \n",
              "2                 30.0                  97.0   0.9951  3.26       0.44   \n",
              "3                 47.0                 186.0   0.9956  3.19       0.40   \n",
              "4                 47.0                 186.0   0.9956  3.19       0.40   \n",
              "\n",
              "   alcohol  quality  \n",
              "0      8.8        6  \n",
              "1      9.5        6  \n",
              "2     10.1        6  \n",
              "3      9.9        6  \n",
              "4      9.9        6  "
            ],
            "text/html": [
              "\n",
              "  <div id=\"df-21611adf-bf39-4e60-9175-44edb9a6a90d\">\n",
              "    <div class=\"colab-df-container\">\n",
              "      <div>\n",
              "<style scoped>\n",
              "    .dataframe tbody tr th:only-of-type {\n",
              "        vertical-align: middle;\n",
              "    }\n",
              "\n",
              "    .dataframe tbody tr th {\n",
              "        vertical-align: top;\n",
              "    }\n",
              "\n",
              "    .dataframe thead th {\n",
              "        text-align: right;\n",
              "    }\n",
              "</style>\n",
              "<table border=\"1\" class=\"dataframe\">\n",
              "  <thead>\n",
              "    <tr style=\"text-align: right;\">\n",
              "      <th></th>\n",
              "      <th>fixed acidity</th>\n",
              "      <th>volatile acidity</th>\n",
              "      <th>citric acid</th>\n",
              "      <th>residual sugar</th>\n",
              "      <th>chlorides</th>\n",
              "      <th>free sulfur dioxide</th>\n",
              "      <th>total sulfur dioxide</th>\n",
              "      <th>density</th>\n",
              "      <th>pH</th>\n",
              "      <th>sulphates</th>\n",
              "      <th>alcohol</th>\n",
              "      <th>quality</th>\n",
              "    </tr>\n",
              "  </thead>\n",
              "  <tbody>\n",
              "    <tr>\n",
              "      <th>0</th>\n",
              "      <td>7.0</td>\n",
              "      <td>0.27</td>\n",
              "      <td>0.36</td>\n",
              "      <td>20.7</td>\n",
              "      <td>0.045</td>\n",
              "      <td>45.0</td>\n",
              "      <td>170.0</td>\n",
              "      <td>1.0010</td>\n",
              "      <td>3.00</td>\n",
              "      <td>0.45</td>\n",
              "      <td>8.8</td>\n",
              "      <td>6</td>\n",
              "    </tr>\n",
              "    <tr>\n",
              "      <th>1</th>\n",
              "      <td>6.3</td>\n",
              "      <td>0.30</td>\n",
              "      <td>0.34</td>\n",
              "      <td>1.6</td>\n",
              "      <td>0.049</td>\n",
              "      <td>14.0</td>\n",
              "      <td>132.0</td>\n",
              "      <td>0.9940</td>\n",
              "      <td>3.30</td>\n",
              "      <td>0.49</td>\n",
              "      <td>9.5</td>\n",
              "      <td>6</td>\n",
              "    </tr>\n",
              "    <tr>\n",
              "      <th>2</th>\n",
              "      <td>8.1</td>\n",
              "      <td>0.28</td>\n",
              "      <td>0.40</td>\n",
              "      <td>6.9</td>\n",
              "      <td>0.050</td>\n",
              "      <td>30.0</td>\n",
              "      <td>97.0</td>\n",
              "      <td>0.9951</td>\n",
              "      <td>3.26</td>\n",
              "      <td>0.44</td>\n",
              "      <td>10.1</td>\n",
              "      <td>6</td>\n",
              "    </tr>\n",
              "    <tr>\n",
              "      <th>3</th>\n",
              "      <td>7.2</td>\n",
              "      <td>0.23</td>\n",
              "      <td>0.32</td>\n",
              "      <td>8.5</td>\n",
              "      <td>0.058</td>\n",
              "      <td>47.0</td>\n",
              "      <td>186.0</td>\n",
              "      <td>0.9956</td>\n",
              "      <td>3.19</td>\n",
              "      <td>0.40</td>\n",
              "      <td>9.9</td>\n",
              "      <td>6</td>\n",
              "    </tr>\n",
              "    <tr>\n",
              "      <th>4</th>\n",
              "      <td>7.2</td>\n",
              "      <td>0.23</td>\n",
              "      <td>0.32</td>\n",
              "      <td>8.5</td>\n",
              "      <td>0.058</td>\n",
              "      <td>47.0</td>\n",
              "      <td>186.0</td>\n",
              "      <td>0.9956</td>\n",
              "      <td>3.19</td>\n",
              "      <td>0.40</td>\n",
              "      <td>9.9</td>\n",
              "      <td>6</td>\n",
              "    </tr>\n",
              "  </tbody>\n",
              "</table>\n",
              "</div>\n",
              "      <button class=\"colab-df-convert\" onclick=\"convertToInteractive('df-21611adf-bf39-4e60-9175-44edb9a6a90d')\"\n",
              "              title=\"Convert this dataframe to an interactive table.\"\n",
              "              style=\"display:none;\">\n",
              "        \n",
              "  <svg xmlns=\"http://www.w3.org/2000/svg\" height=\"24px\"viewBox=\"0 0 24 24\"\n",
              "       width=\"24px\">\n",
              "    <path d=\"M0 0h24v24H0V0z\" fill=\"none\"/>\n",
              "    <path d=\"M18.56 5.44l.94 2.06.94-2.06 2.06-.94-2.06-.94-.94-2.06-.94 2.06-2.06.94zm-11 1L8.5 8.5l.94-2.06 2.06-.94-2.06-.94L8.5 2.5l-.94 2.06-2.06.94zm10 10l.94 2.06.94-2.06 2.06-.94-2.06-.94-.94-2.06-.94 2.06-2.06.94z\"/><path d=\"M17.41 7.96l-1.37-1.37c-.4-.4-.92-.59-1.43-.59-.52 0-1.04.2-1.43.59L10.3 9.45l-7.72 7.72c-.78.78-.78 2.05 0 2.83L4 21.41c.39.39.9.59 1.41.59.51 0 1.02-.2 1.41-.59l7.78-7.78 2.81-2.81c.8-.78.8-2.07 0-2.86zM5.41 20L4 18.59l7.72-7.72 1.47 1.35L5.41 20z\"/>\n",
              "  </svg>\n",
              "      </button>\n",
              "      \n",
              "  <style>\n",
              "    .colab-df-container {\n",
              "      display:flex;\n",
              "      flex-wrap:wrap;\n",
              "      gap: 12px;\n",
              "    }\n",
              "\n",
              "    .colab-df-convert {\n",
              "      background-color: #E8F0FE;\n",
              "      border: none;\n",
              "      border-radius: 50%;\n",
              "      cursor: pointer;\n",
              "      display: none;\n",
              "      fill: #1967D2;\n",
              "      height: 32px;\n",
              "      padding: 0 0 0 0;\n",
              "      width: 32px;\n",
              "    }\n",
              "\n",
              "    .colab-df-convert:hover {\n",
              "      background-color: #E2EBFA;\n",
              "      box-shadow: 0px 1px 2px rgba(60, 64, 67, 0.3), 0px 1px 3px 1px rgba(60, 64, 67, 0.15);\n",
              "      fill: #174EA6;\n",
              "    }\n",
              "\n",
              "    [theme=dark] .colab-df-convert {\n",
              "      background-color: #3B4455;\n",
              "      fill: #D2E3FC;\n",
              "    }\n",
              "\n",
              "    [theme=dark] .colab-df-convert:hover {\n",
              "      background-color: #434B5C;\n",
              "      box-shadow: 0px 1px 3px 1px rgba(0, 0, 0, 0.15);\n",
              "      filter: drop-shadow(0px 1px 2px rgba(0, 0, 0, 0.3));\n",
              "      fill: #FFFFFF;\n",
              "    }\n",
              "  </style>\n",
              "\n",
              "      <script>\n",
              "        const buttonEl =\n",
              "          document.querySelector('#df-21611adf-bf39-4e60-9175-44edb9a6a90d button.colab-df-convert');\n",
              "        buttonEl.style.display =\n",
              "          google.colab.kernel.accessAllowed ? 'block' : 'none';\n",
              "\n",
              "        async function convertToInteractive(key) {\n",
              "          const element = document.querySelector('#df-21611adf-bf39-4e60-9175-44edb9a6a90d');\n",
              "          const dataTable =\n",
              "            await google.colab.kernel.invokeFunction('convertToInteractive',\n",
              "                                                     [key], {});\n",
              "          if (!dataTable) return;\n",
              "\n",
              "          const docLinkHtml = 'Like what you see? Visit the ' +\n",
              "            '<a target=\"_blank\" href=https://colab.research.google.com/notebooks/data_table.ipynb>data table notebook</a>'\n",
              "            + ' to learn more about interactive tables.';\n",
              "          element.innerHTML = '';\n",
              "          dataTable['output_type'] = 'display_data';\n",
              "          await google.colab.output.renderOutput(dataTable, element);\n",
              "          const docLink = document.createElement('div');\n",
              "          docLink.innerHTML = docLinkHtml;\n",
              "          element.appendChild(docLink);\n",
              "        }\n",
              "      </script>\n",
              "    </div>\n",
              "  </div>\n",
              "  "
            ]
          },
          "metadata": {},
          "execution_count": 5
        }
      ]
    },
    {
      "cell_type": "code",
      "source": [
        "# se agrega una columna de tipo bool para determinar si el vino es tinto (1) o blanco (0)\n",
        "\n",
        "df_red_wine['type'] = 1\n",
        "df_white_wine['type'] = 0\n",
        "\n",
        "print(\"red wine\", df_red_wine)\n",
        "print(\"white wine\", df_white_wine)"
      ],
      "metadata": {
        "colab": {
          "base_uri": "https://localhost:8080/"
        },
        "id": "seDxrlDPbB1F",
        "outputId": "e2726a11-9ade-4378-e18e-e1b1b82b2657"
      },
      "execution_count": 6,
      "outputs": [
        {
          "output_type": "stream",
          "name": "stdout",
          "text": [
            "red wine       fixed acidity  volatile acidity  citric acid  residual sugar  chlorides  \\\n",
            "0               7.4             0.700         0.00             1.9      0.076   \n",
            "1               7.8             0.880         0.00             2.6      0.098   \n",
            "2               7.8             0.760         0.04             2.3      0.092   \n",
            "3              11.2             0.280         0.56             1.9      0.075   \n",
            "4               7.4             0.700         0.00             NaN      0.076   \n",
            "...             ...               ...          ...             ...        ...   \n",
            "1594            6.2             0.600         0.08             2.0      0.090   \n",
            "1595            5.9             0.550         0.10             2.2      0.062   \n",
            "1596            6.3             0.510         0.13             2.3      0.076   \n",
            "1597            5.9             0.645         0.12             2.0      0.075   \n",
            "1598            6.0             0.310         0.47             3.6      0.067   \n",
            "\n",
            "      free sulfur dioxide  total sulfur dioxide  density    pH  sulphates  \\\n",
            "0                    11.0                  34.0  0.99780  3.51       0.56   \n",
            "1                    25.0                  67.0  0.99680  3.20       0.68   \n",
            "2                    15.0                  54.0  0.99700  3.26       0.65   \n",
            "3                    17.0                  60.0  0.99800  3.16       0.58   \n",
            "4                    11.0                  34.0  0.99780  3.51       0.56   \n",
            "...                   ...                   ...      ...   ...        ...   \n",
            "1594                 32.0                  44.0  0.99490  3.45       0.58   \n",
            "1595                 39.0                  51.0  0.99512  3.52       0.76   \n",
            "1596                 29.0                  40.0  0.99574  3.42       0.75   \n",
            "1597                 32.0                  44.0  0.99547  3.57       0.71   \n",
            "1598                 18.0                  42.0  0.99549  3.39       0.66   \n",
            "\n",
            "      alcohol  quality  type  \n",
            "0         9.4        5     1  \n",
            "1         9.8        5     1  \n",
            "2         9.8        5     1  \n",
            "3         9.8        6     1  \n",
            "4         9.4        5     1  \n",
            "...       ...      ...   ...  \n",
            "1594     10.5        5     1  \n",
            "1595     11.2        6     1  \n",
            "1596     11.0        6     1  \n",
            "1597     10.2        5     1  \n",
            "1598     11.0        6     1  \n",
            "\n",
            "[1599 rows x 13 columns]\n",
            "white wine       fixed acidity  volatile acidity  citric acid  residual sugar  chlorides  \\\n",
            "0               7.0              0.27         0.36            20.7      0.045   \n",
            "1               6.3              0.30         0.34             1.6      0.049   \n",
            "2               8.1              0.28         0.40             6.9      0.050   \n",
            "3               7.2              0.23         0.32             8.5      0.058   \n",
            "4               7.2              0.23         0.32             8.5      0.058   \n",
            "...             ...               ...          ...             ...        ...   \n",
            "4893            6.2              0.21         0.29             1.6      0.039   \n",
            "4894            6.6              0.32         0.36             8.0      0.047   \n",
            "4895            6.5              0.24         0.19             1.2      0.041   \n",
            "4896            5.5              0.29         0.30             1.1      0.022   \n",
            "4897            6.0              0.21         0.38             0.8      0.020   \n",
            "\n",
            "      free sulfur dioxide  total sulfur dioxide  density    pH  sulphates  \\\n",
            "0                    45.0                 170.0  1.00100  3.00       0.45   \n",
            "1                    14.0                 132.0  0.99400  3.30       0.49   \n",
            "2                    30.0                  97.0  0.99510  3.26       0.44   \n",
            "3                    47.0                 186.0  0.99560  3.19       0.40   \n",
            "4                    47.0                 186.0  0.99560  3.19       0.40   \n",
            "...                   ...                   ...      ...   ...        ...   \n",
            "4893                 24.0                  92.0  0.99114  3.27       0.50   \n",
            "4894                 57.0                 168.0  0.99490  3.15       0.46   \n",
            "4895                 30.0                 111.0  0.99254  2.99       0.46   \n",
            "4896                 20.0                 110.0  0.98869  3.34       0.38   \n",
            "4897                 22.0                  98.0  0.98941  3.26       0.32   \n",
            "\n",
            "      alcohol  quality  type  \n",
            "0         8.8        6     0  \n",
            "1         9.5        6     0  \n",
            "2        10.1        6     0  \n",
            "3         9.9        6     0  \n",
            "4         9.9        6     0  \n",
            "...       ...      ...   ...  \n",
            "4893     11.2        6     0  \n",
            "4894      9.6        5     0  \n",
            "4895      9.4        6     0  \n",
            "4896     12.8        7     0  \n",
            "4897     11.8        6     0  \n",
            "\n",
            "[4898 rows x 13 columns]\n"
          ]
        }
      ]
    },
    {
      "cell_type": "code",
      "source": [
        "# por recomendación, chequeo qué cantidad de valores correspondiente a cada columna de los dataframes son null\n",
        "df_red_wine.isnull().sum()\n",
        "\n",
        "# con el metodo dropna se desestiman aquellas filas que contengan al menos un campo null\n",
        "# https://pandas.pydata.org/docs/reference/api/pandas.DataFrame.dropna.html\n",
        "df_red = df_red_wine.dropna()\n",
        "\n",
        "print(df_red)\n"
      ],
      "metadata": {
        "colab": {
          "base_uri": "https://localhost:8080/"
        },
        "id": "EHVmeEBYbmnk",
        "outputId": "5c031310-648e-4d28-c8bf-d48982b2f4fc"
      },
      "execution_count": 10,
      "outputs": [
        {
          "output_type": "stream",
          "name": "stdout",
          "text": [
            "      fixed acidity  volatile acidity  citric acid  residual sugar  chlorides  \\\n",
            "0               7.4             0.700         0.00             1.9      0.076   \n",
            "1               7.8             0.880         0.00             2.6      0.098   \n",
            "2               7.8             0.760         0.04             2.3      0.092   \n",
            "3              11.2             0.280         0.56             1.9      0.075   \n",
            "5               7.4             0.660         0.00             1.8      0.075   \n",
            "...             ...               ...          ...             ...        ...   \n",
            "1594            6.2             0.600         0.08             2.0      0.090   \n",
            "1595            5.9             0.550         0.10             2.2      0.062   \n",
            "1596            6.3             0.510         0.13             2.3      0.076   \n",
            "1597            5.9             0.645         0.12             2.0      0.075   \n",
            "1598            6.0             0.310         0.47             3.6      0.067   \n",
            "\n",
            "      free sulfur dioxide  total sulfur dioxide  density    pH  sulphates  \\\n",
            "0                    11.0                  34.0  0.99780  3.51       0.56   \n",
            "1                    25.0                  67.0  0.99680  3.20       0.68   \n",
            "2                    15.0                  54.0  0.99700  3.26       0.65   \n",
            "3                    17.0                  60.0  0.99800  3.16       0.58   \n",
            "5                    13.0                  40.0  0.99780  3.51       0.56   \n",
            "...                   ...                   ...      ...   ...        ...   \n",
            "1594                 32.0                  44.0  0.99490  3.45       0.58   \n",
            "1595                 39.0                  51.0  0.99512  3.52       0.76   \n",
            "1596                 29.0                  40.0  0.99574  3.42       0.75   \n",
            "1597                 32.0                  44.0  0.99547  3.57       0.71   \n",
            "1598                 18.0                  42.0  0.99549  3.39       0.66   \n",
            "\n",
            "      alcohol  quality  type  \n",
            "0         9.4        5     1  \n",
            "1         9.8        5     1  \n",
            "2         9.8        5     1  \n",
            "3         9.8        6     1  \n",
            "5         9.4        5     1  \n",
            "...       ...      ...   ...  \n",
            "1594     10.5        5     1  \n",
            "1595     11.2        6     1  \n",
            "1596     11.0        6     1  \n",
            "1597     10.2        5     1  \n",
            "1598     11.0        6     1  \n",
            "\n",
            "[1441 rows x 13 columns]\n"
          ]
        }
      ]
    },
    {
      "cell_type": "code",
      "source": [
        "# se repite el proceso para el dataframe de vino blanco\n",
        "df_white_wine.isnull().sum()\n",
        "\n",
        "df_white = df_white_wine.dropna()\n",
        "\n",
        "print(df_white)"
      ],
      "metadata": {
        "colab": {
          "base_uri": "https://localhost:8080/"
        },
        "id": "rrD2Rp0bc33i",
        "outputId": "3e186af1-5fb6-4ac1-f58a-281ce948c4d7"
      },
      "execution_count": 11,
      "outputs": [
        {
          "output_type": "stream",
          "name": "stdout",
          "text": [
            "      fixed acidity  volatile acidity  citric acid  residual sugar  chlorides  \\\n",
            "0               7.0              0.27         0.36            20.7      0.045   \n",
            "1               6.3              0.30         0.34             1.6      0.049   \n",
            "2               8.1              0.28         0.40             6.9      0.050   \n",
            "3               7.2              0.23         0.32             8.5      0.058   \n",
            "4               7.2              0.23         0.32             8.5      0.058   \n",
            "...             ...               ...          ...             ...        ...   \n",
            "4893            6.2              0.21         0.29             1.6      0.039   \n",
            "4894            6.6              0.32         0.36             8.0      0.047   \n",
            "4895            6.5              0.24         0.19             1.2      0.041   \n",
            "4896            5.5              0.29         0.30             1.1      0.022   \n",
            "4897            6.0              0.21         0.38             0.8      0.020   \n",
            "\n",
            "      free sulfur dioxide  total sulfur dioxide  density    pH  sulphates  \\\n",
            "0                    45.0                 170.0  1.00100  3.00       0.45   \n",
            "1                    14.0                 132.0  0.99400  3.30       0.49   \n",
            "2                    30.0                  97.0  0.99510  3.26       0.44   \n",
            "3                    47.0                 186.0  0.99560  3.19       0.40   \n",
            "4                    47.0                 186.0  0.99560  3.19       0.40   \n",
            "...                   ...                   ...      ...   ...        ...   \n",
            "4893                 24.0                  92.0  0.99114  3.27       0.50   \n",
            "4894                 57.0                 168.0  0.99490  3.15       0.46   \n",
            "4895                 30.0                 111.0  0.99254  2.99       0.46   \n",
            "4896                 20.0                 110.0  0.98869  3.34       0.38   \n",
            "4897                 22.0                  98.0  0.98941  3.26       0.32   \n",
            "\n",
            "      alcohol  quality  type  \n",
            "0         8.8        6     0  \n",
            "1         9.5        6     0  \n",
            "2        10.1        6     0  \n",
            "3         9.9        6     0  \n",
            "4         9.9        6     0  \n",
            "...       ...      ...   ...  \n",
            "4893     11.2        6     0  \n",
            "4894      9.6        5     0  \n",
            "4895      9.4        6     0  \n",
            "4896     12.8        7     0  \n",
            "4897     11.8        6     0  \n",
            "\n",
            "[4898 rows x 13 columns]\n"
          ]
        }
      ]
    },
    {
      "cell_type": "code",
      "source": [
        "# se concatenan ambos dataframes para visualizar la distribución resultante\n",
        "# https://pandas.pydata.org/docs/reference/api/pandas.concat.html\n",
        "\n",
        "df_result = pd.concat( [df_red, df_white] )\n",
        "\n",
        "# se utiliza reset_indez tq. se descarten los índices pronvenientes de cada df\n",
        "df_result.reset_index(\n",
        "    inplace=True, \n",
        "    drop=True\n",
        "  ) \n",
        "\n",
        "print(df_result)"
      ],
      "metadata": {
        "colab": {
          "base_uri": "https://localhost:8080/"
        },
        "id": "kKDl6-KddFe8",
        "outputId": "405d3f10-bed5-4b5f-e1fa-53523041714a"
      },
      "execution_count": 37,
      "outputs": [
        {
          "output_type": "stream",
          "name": "stdout",
          "text": [
            "      fixed acidity  volatile acidity  citric acid  residual sugar  chlorides  \\\n",
            "0               7.4              0.70         0.00             1.9      0.076   \n",
            "1               7.8              0.88         0.00             2.6      0.098   \n",
            "2               7.8              0.76         0.04             2.3      0.092   \n",
            "3              11.2              0.28         0.56             1.9      0.075   \n",
            "4               7.4              0.66         0.00             1.8      0.075   \n",
            "...             ...               ...          ...             ...        ...   \n",
            "6334            6.2              0.21         0.29             1.6      0.039   \n",
            "6335            6.6              0.32         0.36             8.0      0.047   \n",
            "6336            6.5              0.24         0.19             1.2      0.041   \n",
            "6337            5.5              0.29         0.30             1.1      0.022   \n",
            "6338            6.0              0.21         0.38             0.8      0.020   \n",
            "\n",
            "      free sulfur dioxide  total sulfur dioxide  density    pH  sulphates  \\\n",
            "0                    11.0                  34.0  0.99780  3.51       0.56   \n",
            "1                    25.0                  67.0  0.99680  3.20       0.68   \n",
            "2                    15.0                  54.0  0.99700  3.26       0.65   \n",
            "3                    17.0                  60.0  0.99800  3.16       0.58   \n",
            "4                    13.0                  40.0  0.99780  3.51       0.56   \n",
            "...                   ...                   ...      ...   ...        ...   \n",
            "6334                 24.0                  92.0  0.99114  3.27       0.50   \n",
            "6335                 57.0                 168.0  0.99490  3.15       0.46   \n",
            "6336                 30.0                 111.0  0.99254  2.99       0.46   \n",
            "6337                 20.0                 110.0  0.98869  3.34       0.38   \n",
            "6338                 22.0                  98.0  0.98941  3.26       0.32   \n",
            "\n",
            "      alcohol  quality  type  \n",
            "0         9.4        5     1  \n",
            "1         9.8        5     1  \n",
            "2         9.8        5     1  \n",
            "3         9.8        6     1  \n",
            "4         9.4        5     1  \n",
            "...       ...      ...   ...  \n",
            "6334     11.2        6     0  \n",
            "6335      9.6        5     0  \n",
            "6336      9.4        6     0  \n",
            "6337     12.8        7     0  \n",
            "6338     11.8        6     0  \n",
            "\n",
            "[6339 rows x 13 columns]\n"
          ]
        }
      ]
    },
    {
      "cell_type": "code",
      "source": [
        "# se visualiza la matriz de correlación tq. sea posible determinar las relaciones de mayor relevancia (peso)\n",
        "# https://pandas.pydata.org/docs/reference/api/pandas.DataFrame.corr.html\n",
        "# https://datatofish.com/correlation-matrix-pandas/\n",
        "\n",
        "df_correlation = df.corr()\n",
        "sns.heatmap(df_correlation, annot=True)\n",
        "plt.show()"
      ],
      "metadata": {
        "colab": {
          "base_uri": "https://localhost:8080/",
          "height": 0
        },
        "id": "ZcHmXdQ9hRfg",
        "outputId": "af2385c0-918e-4d09-8112-b1b0e21b602e"
      },
      "execution_count": 47,
      "outputs": [
        {
          "output_type": "display_data",
          "data": {
            "text/plain": [
              "<Figure size 432x288 with 2 Axes>"
            ],
            "image/png": "[encoded data removed]"
          },
          "metadata": {
            "needs_background": "light"
          }
        }
      ]
    },
    {
      "cell_type": "markdown",
      "source": [
        "# Clasificación y Predicción\n",
        "\n"
      ],
      "metadata": {
        "id": "b4xUVJSCjysI"
      }
    },
    {
      "cell_type": "code",
      "source": [
        "# se deja listo el escalamiento para ambos modelos. cabe destacar que solo se normalizan los valores de entrada (eje X)\n",
        "\n",
        "scale_classification = preprocessing.MinMaxScaler()\n",
        "scale_regression = preprocessing.MinMaxScaler()"
      ],
      "metadata": {
        "id": "oDYUB7twqbUG"
      },
      "execution_count": 66,
      "outputs": []
    },
    {
      "cell_type": "markdown",
      "source": [
        "## Clasificación"
      ],
      "metadata": {
        "id": "7XV0I29moxcA"
      }
    },
    {
      "cell_type": "code",
      "source": [
        "df = df_result\n",
        "\n",
        "# unicamente se selecciona la columna agregada en el preprocesamiento de datos correspondiente al tipo de vino \n",
        "x_classification = df.drop( columns=['type'] ).values\n",
        "y_classification = df['type']\n",
        "\n",
        "scale_classification.fit(x_classification)\n",
        "x_classification = scale_classification.transform(x_classification)\n",
        "\n",
        "\n",
        "x_train_classification, x_test_classification, y_train_classification, y_test_classification = train_test_split(\n",
        "    x_classification, \n",
        "    y_classification, \n",
        "    test_size=0.2,\n",
        "    random_state=42\n",
        ")\n",
        "\n"
      ],
      "metadata": {
        "id": "L0Me_s3ej43G"
      },
      "execution_count": 73,
      "outputs": []
    },
    {
      "cell_type": "markdown",
      "source": [
        "## Predicción"
      ],
      "metadata": {
        "id": "3d3wBxTzpj73"
      }
    },
    {
      "cell_type": "code",
      "source": [
        "x_regression = df.drop(columns=['quality']).values\n",
        "y_regression = df['quality']\n",
        "\n",
        "scale_regression.fit(x_regression)\n",
        "x_regression = scale_regression.transform(x_regression)\n",
        "x_regression.shape\n",
        "\n",
        "x_train_regression, x_test_regression, y_train_regression, y_test_regression = train_test_split(\n",
        "    x_regression, \n",
        "    y_regression, \n",
        "    test_size=0.2,\n",
        "    random_state=42\n",
        ")\n",
        "\n",
        "print(\"input train + test\", x_train_regression.shape, x_test_regression.shape)\n",
        "print(\"output train + test\", y_train_regression.shape, y_test_regression.shape)\n",
        "\n"
      ],
      "metadata": {
        "colab": {
          "base_uri": "https://localhost:8080/"
        },
        "id": "Tgx0ZiK-pmEo",
        "outputId": "d8798251-479a-4ce2-c363-e11688800dc4"
      },
      "execution_count": 76,
      "outputs": [
        {
          "output_type": "stream",
          "name": "stdout",
          "text": [
            "input train + test (5071, 12) (1268, 12)\n",
            "output train + test (5071,) (1268,)\n"
          ]
        }
      ]
    },
    {
      "cell_type": "markdown",
      "source": [
        "# Modelo SVM "
      ],
      "metadata": {
        "id": "Y0IHxOGZxyky"
      }
    },
    {
      "cell_type": "markdown",
      "source": [
        "## Clasificación"
      ],
      "metadata": {
        "id": "caOXDoQzx55q"
      }
    },
    {
      "cell_type": "code",
      "source": [
        "red_quantity = (y_train_classification==1).sum()\n",
        "white_quantity = (y_train_classification==0).sum()\n",
        "\n",
        "classification_weight = white_quantity/red_quantity"
      ],
      "metadata": {
        "id": "yQjS9l4Mx2jT"
      },
      "execution_count": 77,
      "outputs": []
    },
    {
      "cell_type": "code",
      "source": [
        "# https://scikit-learn.org/stable/modules/svm.html\n",
        "\n",
        "# se procesa el modelo con la funcion de kernel lineal indicando el peso obtenido previamente y luego se compara frente al dataset de test\n",
        "\n",
        "svm_classification = svm.SVC(\n",
        "    kernel=\"linear\", \n",
        "    class_weight={1: classification_weight}\n",
        ") \n",
        "svm_classification.fit(\n",
        "    x_train_classification, \n",
        "    y_train_classification\n",
        ")\n",
        "\n",
        "accuracy = svm_classification.score(\n",
        "    x_test_classification, \n",
        "    y_test_classification         \n",
        ")\n",
        "\n",
        "print(accuracy)\n",
        "\n"
      ],
      "metadata": {
        "colab": {
          "base_uri": "https://localhost:8080/"
        },
        "id": "ODa9AR6E0Wm7",
        "outputId": "c22e604c-63a9-4d5f-ac5b-a0fff516f684"
      },
      "execution_count": 78,
      "outputs": [
        {
          "output_type": "stream",
          "name": "stdout",
          "text": [
            "0.9929022082018928\n"
          ]
        }
      ]
    },
    {
      "cell_type": "code",
      "source": [
        "# se procesa el modelo con la funcion de kernel RBF\n",
        "\n",
        "svm_classification = svm.SVC(\n",
        "    kernel=\"rbf\", \n",
        "    class_weight={1: classification_weight}\n",
        ") \n",
        "svm_classification.fit(\n",
        "    x_train_classification, \n",
        "    y_train_classification\n",
        ")\n",
        "\n",
        "accuracy = svm_classification.score(\n",
        "    x_test_classification, \n",
        "    y_test_classification         \n",
        ")\n",
        "\n",
        "print(accuracy)\n"
      ],
      "metadata": {
        "colab": {
          "base_uri": "https://localhost:8080/"
        },
        "id": "ZkguhesQ1y_e",
        "outputId": "67daaa4a-3e96-4456-bc6d-de64153280cf"
      },
      "execution_count": 79,
      "outputs": [
        {
          "output_type": "stream",
          "name": "stdout",
          "text": [
            "0.9960567823343849\n"
          ]
        }
      ]
    },
    {
      "cell_type": "markdown",
      "source": [
        "## Regresion"
      ],
      "metadata": {
        "id": "WmA6lo-42eFi"
      }
    },
    {
      "cell_type": "code",
      "source": [
        "svm_regression = svm.SVR(\n",
        "    kernel=\"linear\", \n",
        "    C=10, \n",
        "    epsilon=0.1\n",
        ")\n",
        "svm_regression.fit(\n",
        "    x_train_regression,\n",
        "    y_train_regression\n",
        ")\n",
        "\n",
        "accuracy = svm_regression.score(\n",
        "    x_test_regression, \n",
        "    y_test_regression\n",
        ")\n",
        "\n",
        "print(accuracy)"
      ],
      "metadata": {
        "colab": {
          "base_uri": "https://localhost:8080/"
        },
        "id": "2RdkbPOf2gAv",
        "outputId": "eb8c535d-8f61-4baf-b7a8-8f8bd037d82a"
      },
      "execution_count": 80,
      "outputs": [
        {
          "output_type": "stream",
          "name": "stdout",
          "text": [
            "0.2950167177476444\n"
          ]
        }
      ]
    },
    {
      "cell_type": "code",
      "source": [
        "svm_regression = svm.SVR(\n",
        "    kernel=\"poly\", \n",
        "    C=10, \n",
        "    gamma=\"scale\", \n",
        "    degree=4, \n",
        "    epsilon=0.1\n",
        ")\n",
        "svm_regression.fit(\n",
        "    x_train_regression, \n",
        "    y_train_regression\n",
        ")\n",
        "\n",
        "accuracy = svm_regression.score(\n",
        "    x_test_regression, \n",
        "    y_test_regression\n",
        ")\n",
        "\n",
        "print(accuracy)"
      ],
      "metadata": {
        "colab": {
          "base_uri": "https://localhost:8080/"
        },
        "id": "2ziFW8kq3NTf",
        "outputId": "47ce6422-1ead-4e2f-de8e-68c973fbaea0"
      },
      "execution_count": 81,
      "outputs": [
        {
          "output_type": "stream",
          "name": "stdout",
          "text": [
            "0.34747446921950986\n"
          ]
        }
      ]
    },
    {
      "cell_type": "code",
      "source": [
        "y_prediction_regression = svm_regression.predict(x_test_regression)\n",
        "metrics.mean_squared_error(y_prediction_regression, y_test_regression)\n",
        "y_test_regression_index = y_test_regression.reset_index()\n",
        "\n",
        "# conversion al entero mas cercano\n",
        "y_prediction_regression_round = [np.round(x) for x in (y_prediction_regression)]\n",
        "\n",
        "plt.plot(\n",
        "    y_test_regression_index['quality'],\n",
        "    'o', \n",
        "    color=\"royalblue\"\n",
        ")\n",
        "plt.plot(\n",
        "    y_prediction_regression_round,\n",
        "    'o', \n",
        "    color=\"gold\"\n",
        ")\n",
        "\n",
        "plt.legend(['Real', 'Predecido'])\n",
        "plt.ylabel('Calidad')\n",
        "plt.xlabel('Muestras')\n",
        "\n",
        "plt.grid()\n",
        "plt.show()"
      ],
      "metadata": {
        "colab": {
          "base_uri": "https://localhost:8080/",
          "height": 279
        },
        "id": "wvCBs3W43q8y",
        "outputId": "05e0df59-700d-4ccf-ea63-2f8b50cf154c"
      },
      "execution_count": 84,
      "outputs": [
        {
          "output_type": "display_data",
          "data": {
            "text/plain": [
              "<Figure size 432x288 with 1 Axes>"
            ],
            "image/png": "[encoded data removed]"
          },
          "metadata": {
            "needs_background": "light"
          }
        }
      ]
    },
    {
      "cell_type": "markdown",
      "source": [
        "# Árbol de decisión\n",
        "\n"
      ],
      "metadata": {
        "id": "Loc9rf4l5GeZ"
      }
    },
    {
      "cell_type": "markdown",
      "source": [
        "## Clasificacion"
      ],
      "metadata": {
        "id": "NTJpq4o_6jv1"
      }
    },
    {
      "cell_type": "code",
      "source": [
        "decision_tree_classification = tree.DecisionTreeClassifier(\n",
        "    max_depth=3,\n",
        "    min_samples_split=10,\n",
        "    min_samples_leaf=10\n",
        ")\n",
        "\n",
        "decision_tree_classification.fit(\n",
        "    x_train_classification,\n",
        "    y_train_classification\n",
        ")\n",
        "\n",
        "decision_tree_classification.predict(x_test_classification)\n",
        "\n",
        "accuracy = decision_tree_classification.score(\n",
        "    x_test_classification, \n",
        "    y_test_classification\n",
        ")\n",
        "print(accuracy)"
      ],
      "metadata": {
        "colab": {
          "base_uri": "https://localhost:8080/"
        },
        "id": "OC5Qge-e5KJX",
        "outputId": "1f9aad3d-6f69-4c11-8f5d-db2adfb5619e"
      },
      "execution_count": 89,
      "outputs": [
        {
          "output_type": "stream",
          "name": "stdout",
          "text": [
            "0.972397476340694\n"
          ]
        }
      ]
    },
    {
      "cell_type": "code",
      "source": [
        "tree.plot_tree(decision_tree_classification)\n",
        "plt.show()"
      ],
      "metadata": {
        "colab": {
          "base_uri": "https://localhost:8080/",
          "height": 248
        },
        "id": "5ONQ2pGb6R48",
        "outputId": "4d05ea04-490d-4b09-a7b9-e77fe4b61ed6"
      },
      "execution_count": 90,
      "outputs": [
        {
          "output_type": "display_data",
          "data": {
            "text/plain": [
              "<Figure size 432x288 with 1 Axes>"
            ],
            "image/png": "[encoded data removed]"
          },
          "metadata": {
            "needs_background": "light"
          }
        }
      ]
    },
    {
      "cell_type": "markdown",
      "source": [
        "## Regresion"
      ],
      "metadata": {
        "id": "WmhPhFMM6mSl"
      }
    },
    {
      "cell_type": "code",
      "source": [
        "decision_tree_regression = tree.DecisionTreeRegressor(max_depth=4)\n",
        "decision_tree_regression.fit(\n",
        "    x_train_regression,\n",
        "    y_train_regression\n",
        ")\n",
        "\n",
        "decision_tree_prediction = decision_tree_regression.predict(x_test_regression)\n",
        "metrics.mean_squared_error(\n",
        "    decision_tree_prediction, \n",
        "    y_test_regression\n",
        ")"
      ],
      "metadata": {
        "colab": {
          "base_uri": "https://localhost:8080/"
        },
        "id": "XgfFUgT16n4u",
        "outputId": "da235302-bba8-404d-a389-648a9b8eff9b"
      },
      "execution_count": 98,
      "outputs": [
        {
          "output_type": "execute_result",
          "data": {
            "text/plain": [
              "0.5109983874932007"
            ]
          },
          "metadata": {},
          "execution_count": 98
        }
      ]
    },
    {
      "cell_type": "markdown",
      "source": [
        "# kNN"
      ],
      "metadata": {
        "id": "CCTLaNP976Hn"
      }
    },
    {
      "cell_type": "markdown",
      "source": [
        "## Clasificacion"
      ],
      "metadata": {
        "id": "a0YBT479791l"
      }
    },
    {
      "cell_type": "code",
      "source": [
        "knn_classification = neighbors.KNeighborsClassifier(\n",
        "    n_neighbors=10, \n",
        "    weights='distance'\n",
        ")\n",
        "knn_classification.fit(\n",
        "    x_train_classification, \n",
        "    y_train_classification\n",
        ")\n",
        "\n",
        "accuracy = knn_classification.score(\n",
        "    x_test_classification,\n",
        "    y_test_classification\n",
        ")\n",
        "\n",
        "print(accuracy)"
      ],
      "metadata": {
        "colab": {
          "base_uri": "https://localhost:8080/"
        },
        "id": "iiNX9Vui7_rZ",
        "outputId": "a876cc58-5809-45e7-ced0-79980a819357"
      },
      "execution_count": 99,
      "outputs": [
        {
          "output_type": "stream",
          "name": "stdout",
          "text": [
            "0.9968454258675079\n"
          ]
        }
      ]
    },
    {
      "cell_type": "markdown",
      "source": [
        "## Regresion"
      ],
      "metadata": {
        "id": "9wLmVoNP8en7"
      }
    },
    {
      "cell_type": "code",
      "source": [
        "knn_regression_accuracy = np.array([])\n",
        "array = np.arange(1, 50, 1)\n",
        "\n",
        "for i in array:\n",
        "  # Llamo al modelo de regresión de kNN seteando la cantidad de vecinos\n",
        "  knn_regression = neighbors.KNeighborsRegressor(\n",
        "      n_neighbors=i, \n",
        "      weights='distance'\n",
        "  ) \n",
        "\n",
        "  knn_regression.fit(\n",
        "      x_train_regression,\n",
        "      y_train_regression\n",
        "  )\n",
        "\n",
        "  accuracy = knn_regression.score(\n",
        "      x_test_regression, \n",
        "      y_test_regression\n",
        "  )\n",
        "  accuracy_knn_reg = np.append(\n",
        "      knn_regression_accuracy, \n",
        "      np.array([accuracy])\n",
        "  )\n",
        "\n",
        "\n",
        "print(knn_regression_accuracy)"
      ],
      "metadata": {
        "colab": {
          "base_uri": "https://localhost:8080/"
        },
        "id": "25imkJy68gWF",
        "outputId": "0c576a35-a756-4bde-ee62-ea7cb128a85f"
      },
      "execution_count": 100,
      "outputs": [
        {
          "output_type": "stream",
          "name": "stdout",
          "text": [
            "[]\n"
          ]
        }
      ]
    },
    {
      "cell_type": "markdown",
      "source": [
        "# Red Neuronal"
      ],
      "metadata": {
        "id": "4hbGMx30-j2m"
      }
    },
    {
      "cell_type": "markdown",
      "source": [
        "## Clasificacion"
      ],
      "metadata": {
        "id": "jAhpek4D-oB2"
      }
    },
    {
      "cell_type": "code",
      "source": [
        "# con clasificador MLP, perceptron de multiples capas\n",
        "\n",
        "mlp_classification_accuracy = np.array([])\n",
        "nodes = np.arange(1, 20, 1)\n",
        "\n",
        "for i in nodes:\n",
        "\n",
        " \n",
        " mlp_classification = MLPClassifier(\n",
        "         solver='sgd',\n",
        "         max_iter=500,\n",
        "         alpha=1e-5,\n",
        "         hidden_layer_sizes=(i,),\n",
        "         tol=1e-3,\n",
        "         random_state=1\n",
        " )\n",
        "\n",
        " mlp_classification.fit(\n",
        "          x_train_classification,\n",
        "          y_train_classification\n",
        " )\n",
        "\n",
        " accuracy = mlp_classification.score(\n",
        "          x_test_classification,\n",
        "          y_test_classification\n",
        " )\n",
        " mlp_classification_accuracy = np.append(mlp_classification_accuracy, np.array([accuracy]))\n",
        "\n",
        "\n",
        "print(np.max(mlp_classification_accuracy))"
      ],
      "metadata": {
        "colab": {
          "base_uri": "https://localhost:8080/"
        },
        "id": "TI1NqM-c-r5u",
        "outputId": "99bdd00a-93b7-4951-880b-1ce25632a972"
      },
      "execution_count": 106,
      "outputs": [
        {
          "output_type": "stream",
          "name": "stdout",
          "text": [
            "0.9865930599369085\n"
          ]
        },
        {
          "output_type": "stream",
          "name": "stderr",
          "text": [
            "/usr/local/lib/python3.7/dist-packages/sklearn/neural_network/_multilayer_perceptron.py:699: UserWarning: Training interrupted by user.\n",
            "  warnings.warn(\"Training interrupted by user.\")\n"
          ]
        }
      ]
    },
    {
      "cell_type": "markdown",
      "source": [
        "## Regresion"
      ],
      "metadata": {
        "id": "RH_pd_by-pcA"
      }
    },
    {
      "cell_type": "code",
      "source": [
        "# con clasificador MLP, perceptron de multiples capas\n",
        "\n",
        "mlp_regression_accuracy = np.array([])\n",
        "nodes = np.arange(1, 20, 1)\n",
        "\n",
        "for i in nodes:\n",
        "\n",
        " \n",
        " mlp_regression = MLPRegressor(\n",
        "         solver='sgd',\n",
        "         max_iter=500,\n",
        "         learning_rate_init=10e-4,\n",
        "         alpha=1e-5,\n",
        "         hidden_layer_sizes=(i,),\n",
        "         tol=1e-3,\n",
        "         random_state=1\n",
        " )\n",
        "\n",
        " mlp_regression.fit(\n",
        "          x_train_regression,\n",
        "          y_train_regression\n",
        " )\n",
        "\n",
        " accuracy = mlp_regression.score(\n",
        "          x_test_regression,\n",
        "          y_test_regression\n",
        " )\n",
        " mlp_regression_accuracy = np.append(\n",
        "     mlp_regression_accuracy, \n",
        "     np.array([accuracy])\n",
        " )\n",
        "\n",
        "\n",
        "print(np.max(mlp_regression_accuracy))"
      ],
      "metadata": {
        "colab": {
          "base_uri": "https://localhost:8080/"
        },
        "id": "jpkvBqUZ-q5v",
        "outputId": "c8320b51-7c37-49dd-c8f8-8f83f8db673c"
      },
      "execution_count": 107,
      "outputs": [
        {
          "output_type": "stream",
          "name": "stdout",
          "text": [
            "0.2433353383947926\n"
          ]
        }
      ]
    }
  ]
}